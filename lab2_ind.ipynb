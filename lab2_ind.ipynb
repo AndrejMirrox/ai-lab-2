{
 "cells": [
  {
   "cell_type": "markdown",
   "metadata": {
    "pycharm": {
     "name": "#%% md\n"
    }
   },
   "source": [
    "# Индивидуальное задание"
   ]
  },
  {
   "cell_type": "markdown",
   "metadata": {
    "pycharm": {
     "name": "#%% md\n"
    }
   },
   "source": [
    "Вариант 12: Осуществить циклический сдвиг элементов квадратной матрицы размерности M x N вправо на к элементов таким образом: элементы 1-й строки сдвигаются в последний столбец сверху вниз, из него - в последнюю строку справа налево, из нее - в первый столбец снизу вверх, из него - в первую строку; для остальных элементов - аналогично."
   ]
  },
  {
   "cell_type": "code",
   "execution_count": 48,
   "metadata": {
    "pycharm": {
     "name": "#%%\n"
    }
   },
   "outputs": [],
   "source": [
    "import numpy as np"
   ]
  },
  {
   "cell_type": "code",
   "execution_count": 38,
   "metadata": {},
   "outputs": [
    {
     "name": "stdout",
     "output_type": "stream",
     "text": [
      "[[2 3 6]\n",
      " [1 5 9]\n",
      " [4 7 8]]\n"
     ]
    }
   ],
   "source": [
    "# создаём матрицу 3 х 3\n",
    "matrix = np.array([[1, 2, 3], [4, 5, 6], [7, 8, 9]])\n",
    "# количество сдвигов\n",
    "k = 1\n",
    "count = 0\n",
    "while count < k:\n",
    "    # Сохраняем первую строку матрицы\n",
    "    first_row = matrix[0, :].copy()\n",
    "    # Сдвигаем элементы первой строки в последний столбец сверху вниз\n",
    "    matrix[:-1, -1] = matrix[1:, -1]\n",
    "    # Сдвигаем элементы последнего столбца в последнюю строку справа налево\n",
    "    matrix[-1, 1:] = matrix[-1, :-1]\n",
    "    # Сдвигаем элементы последней строки в первый столбец снизу вверх\n",
    "    matrix[1:, 0] = matrix[:-1, 0]\n",
    "    # Сдвигаем элементы первого столбца в первую строку слева направо\n",
    "    matrix[0, :-1] = first_row[1:]\n",
    "    count += 1\n",
    "# вывод получившейся матрицы \n",
    "print(matrix)"
   ]
  },
  {
   "cell_type": "code",
   "execution_count": null,
   "metadata": {},
   "outputs": [],
   "source": []
  }
 ],
 "metadata": {
  "kernelspec": {
   "display_name": "Python 3 (ipykernel)",
   "language": "python",
   "name": "python3"
  },
  "language_info": {
   "codemirror_mode": {
    "name": "ipython",
    "version": 3
   },
   "file_extension": ".py",
   "mimetype": "text/x-python",
   "name": "python",
   "nbconvert_exporter": "python",
   "pygments_lexer": "ipython3",
   "version": "3.9.13"
  }
 },
 "nbformat": 4,
 "nbformat_minor": 1
}
